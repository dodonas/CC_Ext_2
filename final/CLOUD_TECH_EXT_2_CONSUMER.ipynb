{
  "nbformat": 4,
  "nbformat_minor": 0,
  "metadata": {
    "colab": {
      "name": "CLOUD_TECH_EXT_2_CONSUMER.ipynb",
      "provenance": [],
      "collapsed_sections": [],
      "authorship_tag": "ABX9TyNQhFgKtgEAFm8iHgePnzVD",
      "include_colab_link": true
    },
    "kernelspec": {
      "name": "python3",
      "display_name": "Python 3"
    },
    "language_info": {
      "name": "python"
    }
  },
  "cells": [
    {
      "cell_type": "markdown",
      "metadata": {
        "id": "view-in-github",
        "colab_type": "text"
      },
      "source": [
        "<a href=\"https://colab.research.google.com/github/dodonas/CC_Ext_2/blob/main/final/CLOUD_TECH_EXT_2_CONSUMER.ipynb\" target=\"_parent\"><img src=\"https://colab.research.google.com/assets/colab-badge.svg\" alt=\"Open In Colab\"/></a>"
      ]
    },
    {
      "cell_type": "markdown",
      "source": [
        "# Afeka - 65215 - Ext 2 - Kafka and Spark Streaming"
      ],
      "metadata": {
        "id": "9wcJTHXMoXVf"
      }
    },
    {
      "cell_type": "markdown",
      "source": [
        "# Submitter: Andrey Dodon - 317858298"
      ],
      "metadata": {
        "id": "pe6BwOgaobEv"
      }
    },
    {
      "cell_type": "markdown",
      "source": [
        "# Setup"
      ],
      "metadata": {
        "id": "6fXhyRDJokaI"
      }
    },
    {
      "cell_type": "markdown",
      "source": [
        "Install the required kafka package and get AFINN-111.txt"
      ],
      "metadata": {
        "id": "uKuejkQNon6Z"
      }
    },
    {
      "cell_type": "code",
      "source": [
        "%%capture\n",
        "!pip install confluent_kafka\n",
        "\n",
        "!wget https://github.com/dodonas/CC_Ext_2/blob/main/AFINN-111.txt"
      ],
      "metadata": {
        "id": "FcHoP_aToRCr"
      },
      "execution_count": 1,
      "outputs": []
    },
    {
      "cell_type": "code",
      "source": [
        "from confluent_kafka import Consumer, KafkaError, KafkaException\n",
        "from time import time, sleep\n",
        "from pathlib import Path\n",
        "import sys\n",
        "import os"
      ],
      "metadata": {
        "id": "3QRPHO-PoAmv"
      },
      "execution_count": 20,
      "outputs": []
    },
    {
      "cell_type": "code",
      "source": [
        "def twoSecondsPass(startTime):\n",
        "  return (time() - startTime) > 2"
      ],
      "metadata": {
        "id": "MZx_V_pdpJBd"
      },
      "execution_count": 3,
      "outputs": []
    },
    {
      "cell_type": "code",
      "source": [
        "def writeToRandJ(suffix, batch):\n",
        "  os.path.join('Outputs', 'RandJ.part' + str(suffix))\n",
        "  fileName = Path('RandJ.part' + str(suffix))\n",
        "  fileName.touch(exist_ok=True)\n",
        "  with open(fileName, 'w+') as f:\n",
        "    for item in batch:\n",
        "      f.write(\"%s\\n\" % item)\n",
        "  sys.stderr.write('File [%s] has been created\\n' % (fileName))\n",
        "  suffix += 1\n",
        "  return [], suffix"
      ],
      "metadata": {
        "id": "4ujFmBXKu2JT"
      },
      "execution_count": 38,
      "outputs": []
    },
    {
      "cell_type": "code",
      "execution_count": null,
      "metadata": {
        "id": "HyQ2EHwdmyxU"
      },
      "outputs": [],
      "source": [
        "running = True\n",
        "\n",
        "def basic_consume_loop(consumer, topics):\n",
        "    try:        \n",
        "        consumer.subscribe(topics)        \n",
        "        startTime = time()\n",
        "        suffix = 1\n",
        "        batch = []      \n",
        "        while running:         \n",
        "            msg = consumer.poll(timeout=2.0) \n",
        "            if twoSecondsPass(startTime):                               \n",
        "                if len(batch) > 0:\n",
        "                    batch, suffix = writeToRandJ(suffix, batch)               \n",
        "                startTime = time()                \n",
        "            if msg is None: continue\n",
        "            if msg.error():\n",
        "                if msg.error().code() == KafkaError._PARTITION_EOF:\n",
        "                    sys.stderr.write('%% %s [%d] reached end at offset %d\\n' %\n",
        "                                     (msg.topic(), msg.partition(), msg.offset()))\n",
        "                elif msg.error():\n",
        "                    raise KafkaException(msg.error())\n",
        "            else:\n",
        "                batch.append(msg.value().decode('utf-8'))\n",
        "                \n",
        "    finally:\n",
        "        consumer.close()\n",
        "\n",
        "def shutdown():\n",
        "    running = False"
      ]
    },
    {
      "cell_type": "code",
      "source": [
        "conf = {'bootstrap.servers': \"localhost:9092\",\n",
        "        'group.id': \"afeka-group\",\n",
        "        'auto.offset.reset': 'smallest'}\n",
        "consumer = Consumer(conf)\n",
        "\n",
        "basic_consume_loop(consumer, ['RomeoAndJuliet'])"
      ],
      "metadata": {
        "id": "jk5MlxTQoFkn"
      },
      "execution_count": null,
      "outputs": []
    }
  ]
}