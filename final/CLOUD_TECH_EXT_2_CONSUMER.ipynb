{
  "nbformat": 4,
  "nbformat_minor": 0,
  "metadata": {
    "colab": {
      "name": "CLOUD_TECH_EXT_2_CONSUMER.ipynb",
      "provenance": [],
      "collapsed_sections": [],
      "toc_visible": true,
      "include_colab_link": true
    },
    "kernelspec": {
      "name": "python3",
      "display_name": "Python 3"
    },
    "language_info": {
      "name": "python"
    }
  },
  "cells": [
    {
      "cell_type": "markdown",
      "metadata": {
        "id": "view-in-github",
        "colab_type": "text"
      },
      "source": [
        "<a href=\"https://colab.research.google.com/github/dodonas/CC_Ext_2/blob/main/final/CLOUD_TECH_EXT_2_CONSUMER.ipynb\" target=\"_parent\"><img src=\"https://colab.research.google.com/assets/colab-badge.svg\" alt=\"Open In Colab\"/></a>"
      ]
    },
    {
      "cell_type": "markdown",
      "source": [
        "# Afeka - 65215 - Ext 2 - Kafka and Spark Streaming"
      ],
      "metadata": {
        "id": "jlOi1DRuet-w"
      }
    },
    {
      "cell_type": "markdown",
      "source": [
        "# Submitter: Andrey Dodon - 317858298"
      ],
      "metadata": {
        "id": "aEV1l_hfewU8"
      }
    },
    {
      "cell_type": "markdown",
      "source": [
        "# Setup"
      ],
      "metadata": {
        "id": "_1ruos6sgmMr"
      }
    },
    {
      "cell_type": "markdown",
      "source": [
        "Install the required kafka package and get AFINN-111.txt"
      ],
      "metadata": {
        "id": "qoM3Wi6DgtFD"
      }
    },
    {
      "cell_type": "code",
      "execution_count": null,
      "metadata": {
        "id": "0QkyGvHnqaiH"
      },
      "outputs": [],
      "source": [
        "%%capture\n",
        "!pip install findspark\n",
        "!pip install confluent_kafka\n",
        "\n",
        "!apt-get install openjdk-11-jdk-headless -qq > /dev/null\n",
        "\n",
        "!wget \"https://repo1.maven.org/maven2/org/apache/spark/spark-streaming-kafka-0-8-assembly_2.11/2.4.8/spark-streaming-kafka-0-8-assembly_2.11-2.4.8.jar\"\n",
        "!wget https://downloads.apache.org/spark/spark-2.4.8/spark-2.4.8-bin-hadoop2.7.tgz\n",
        "!wget https://github.com/dodonas/CC_Ext_2/blob/main/AFINN-111.txt\n",
        "!tar -xvf spark-2.4.8-bin-hadoop2.7.tgz"
      ]
    },
    {
      "cell_type": "markdown",
      "source": [
        "## Set the parameters"
      ],
      "metadata": {
        "id": "R9u4hijYg9zU"
      }
    },
    {
      "cell_type": "code",
      "source": [
        "kafka_topic_name = \"RomeoAndJuliet\"\n",
        "kafka_bootstrap_servers = 'localhost:9092'\n",
        "wordsWithSentimentLevel = 'AFINN-111.txt' "
      ],
      "metadata": {
        "id": "UQEdUVPq2amI"
      },
      "execution_count": null,
      "outputs": []
    },
    {
      "cell_type": "code",
      "source": [
        "import os \n",
        "os.environ[\"JAVA_HOME\"] = \"/usr/lib/jvm/java-11-openjdk-amd64\"\n",
        "os.environ[\"SPARK_HOME\"] = \"/content/spark-2.4.8-bin-hadoop2.7\"\n",
        "os.environ['PYSPARK_SUBMIT_ARGS'] = '--jars /content/spark-streaming-kafka-0-8-assembly_2.11-2.4.8.jar pyspark-shell'"
      ],
      "metadata": {
        "id": "M6Sec0Vyraix"
      },
      "execution_count": null,
      "outputs": []
    },
    {
      "cell_type": "markdown",
      "source": [
        "## Import packages"
      ],
      "metadata": {
        "id": "QWhHxHldhCrd"
      }
    },
    {
      "cell_type": "markdown",
      "source": [
        "Provides findspark.init() to make pyspark importable as a regular library"
      ],
      "metadata": {
        "id": "4k4Va6kQi4zH"
      }
    },
    {
      "cell_type": "code",
      "source": [
        "import findspark\n",
        "findspark.init()"
      ],
      "metadata": {
        "id": "EM0XiUZUu-Pq"
      },
      "execution_count": null,
      "outputs": []
    },
    {
      "cell_type": "code",
      "source": [
        "from pyspark import SparkContext, SparkConf\n",
        "from pyspark.streaming import StreamingContext\n",
        "from pyspark.streaming.kafka import KafkaUtils\n",
        "import sys\n",
        "import string\n",
        "from operator import add\n",
        "from confluent_kafka import KafkaError, KafkaException, Consumer"
      ],
      "metadata": {
        "id": "WLQxpN1Fu_ry"
      },
      "execution_count": null,
      "outputs": []
    },
    {
      "cell_type": "code",
      "source": [
        "sc = SparkContext()\n",
        "ssc = StreamingContext(sc,5)"
      ],
      "metadata": {
        "id": "KGj7k6xT50TG"
      },
      "execution_count": null,
      "outputs": []
    },
    {
      "cell_type": "markdown",
      "source": [
        "# Consumer loop"
      ],
      "metadata": {
        "id": "8M0tM8-9jmYl"
      }
    },
    {
      "cell_type": "code",
      "source": [
        "def consume_loop(consumer, topics):\n",
        "  print('Started consuming...')\n",
        "  records = []\n",
        "  try:\n",
        "      consumer.subscribe(topics)\n",
        "      msg = consumer.poll(timeout=2.0)\n",
        "      with open(wordsWithSentimentLevel, encoding='utf-8-sig', mode='r') as afinn111:\n",
        "        while msg is not None:\n",
        "          if not msg.error():\n",
        "            dictionary = {}\n",
        "            for line in afinn111:\n",
        "              _line = line.replace('\\n','').split('\\t')\n",
        "              dictionary[_line[0]] = int(_line[1])\n",
        "              \n",
        "            sum = sc.parallelize(msg).flatMap(lambda x: x.split(' ')).map(\n",
        "                lambda word: word.translate(str.maketrans('', '', string.punctuation))).map(\n",
        "                    lambda word: dictionary.get(word, 0)).reduce(add)\n",
        "            records.append(sum)\n",
        "          elif msg.error().code() == KafkaError._PARTITION_EOF:\n",
        "            sys.stderr.write('%% %s [%d] reached end at offset %d\\n' % \n",
        "                            (msg.topic(), msg.partition(), msg.offset()))\n",
        "          elif msg.error():\n",
        "            raise KafkaException(msg.error())\n",
        "          msg = consumer.poll(timeout=2.0)\n",
        "  finally:\n",
        "    print('No messages were received in the last 2 seconds, closing the consumer')\n",
        "    consumer.close()"
      ],
      "metadata": {
        "id": "Kp8u_qN43ZKq"
      },
      "execution_count": null,
      "outputs": []
    },
    {
      "cell_type": "code",
      "source": [
        "conf = {'bootstrap.servers': kafka_bootstrap_servers,\n",
        "        'group.id': \"afeka-group\",\n",
        "        'auto.offset.reset': 'earliest'}\n",
        "\n",
        "consumer = Consumer(conf)\n",
        "\n",
        "consume_loop(consumer, [kafka_topic_name])"
      ],
      "metadata": {
        "colab": {
          "base_uri": "https://localhost:8080/"
        },
        "id": "01vM5qmq7zNS",
        "outputId": "e895c1ca-34e7-47e1-fbaf-4e24c1d49bf3"
      },
      "execution_count": null,
      "outputs": [
        {
          "output_type": "stream",
          "name": "stdout",
          "text": [
            "Started consuming...\n",
            "No messages were received in the last 2 seconds, closing the consumer\n"
          ]
        }
      ]
    }
  ]
}