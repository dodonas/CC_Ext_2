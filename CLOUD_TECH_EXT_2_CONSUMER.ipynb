{
  "nbformat": 4,
  "nbformat_minor": 0,
  "metadata": {
    "colab": {
      "name": "CLOUD_TECH_EXT_2_CONSUMER.ipynb",
      "provenance": [],
      "authorship_tag": "ABX9TyPZTiTAe9wT2U42s0enm/MP",
      "include_colab_link": true
    },
    "kernelspec": {
      "name": "python3",
      "display_name": "Python 3"
    },
    "language_info": {
      "name": "python"
    }
  },
  "cells": [
    {
      "cell_type": "markdown",
      "metadata": {
        "id": "view-in-github",
        "colab_type": "text"
      },
      "source": [
        "<a href=\"https://colab.research.google.com/github/dodonas/CC_Ext_2/blob/main/CLOUD_TECH_EXT_2_CONSUMER.ipynb\" target=\"_parent\"><img src=\"https://colab.research.google.com/assets/colab-badge.svg\" alt=\"Open In Colab\"/></a>"
      ]
    },
    {
      "cell_type": "code",
      "execution_count": null,
      "metadata": {
        "id": "0QkyGvHnqaiH"
      },
      "outputs": [],
      "source": [
        ""
      ]
    }
  ]
}